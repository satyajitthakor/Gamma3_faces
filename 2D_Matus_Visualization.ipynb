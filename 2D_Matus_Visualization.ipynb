{
 "cells": [
  {
   "cell_type": "code",
   "execution_count": 5,
   "id": "75e7b15f-59d9-4d64-b7ec-e6976852764a",
   "metadata": {},
   "outputs": [],
   "source": [
    "import numpy as np\n",
    "import matplotlib.pyplot as plt\n",
    "\n",
    "# Define the range for a and b\n",
    "a = np.linspace(0, 2.1, 500)  # a >= 0\n",
    "b = np.linspace(0, 2.1, 500)  # b >= 0\n",
    "\n",
    "# Create a meshgrid for 2D plotting\n",
    "A, B = np.meshgrid(a, b)\n",
    "\n",
    "# Compute the inequality condition: a + b >= ln(ceil(e^a))\n",
    "inequality = A + B >= np.log2(np.ceil(2**(A)))\n",
    "\n",
    "# Create a 2D plot\n",
    "plt.figure(figsize=(8, 6))\n",
    "\n",
    "# Plot the region where the inequality holds\n",
    "plt.contourf(A, B, inequality, levels=[0.5, 1.5], colors=['blue'], alpha=0.3)\n",
    "plt.contour(A, B, inequality, levels=[1], colors='blue')\n",
    "\n",
    "# Set labels and title\n",
    "plt.xlabel(r'$a$', fontsize=12)\n",
    "plt.ylabel(r'$b$', fontsize=12)\n",
    "plt.title(r'$a + b \\geq \\log_2(\\lceil 2^a \\rceil)$', fontsize=14)\n",
    "\n",
    "# Set axis limits\n",
    "plt.xlim(0, 2.1)\n",
    "plt.ylim(0, 2.1)\n",
    "\n",
    "# Show the plot\n",
    "plt.grid(True)\n",
    "plt.show()"
   ]
  }
 ],
 "metadata": {
  "kernelspec": {
   "display_name": "Python [conda env:base] *",
   "language": "python",
   "name": "conda-base-py"
  },
  "language_info": {
   "codemirror_mode": {
    "name": "ipython",
    "version": 3
   },
   "file_extension": ".py",
   "mimetype": "text/x-python",
   "name": "python",
   "nbconvert_exporter": "python",
   "pygments_lexer": "ipython3",
   "version": "3.12.7"
  }
 },
 "nbformat": 4,
 "nbformat_minor": 5
}
